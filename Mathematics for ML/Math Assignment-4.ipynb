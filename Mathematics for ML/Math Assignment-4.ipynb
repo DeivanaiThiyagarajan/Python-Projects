{
 "cells": [
  {
   "cell_type": "code",
   "execution_count": 1,
   "id": "36c2608b-6c1d-46fc-a37a-5ad1d731d171",
   "metadata": {},
   "outputs": [],
   "source": [
    "import numpy as np\n",
    "import torch"
   ]
  },
  {
   "cell_type": "code",
   "execution_count": 39,
   "id": "6f578a69-43e9-4706-b5cd-569f1bfbf236",
   "metadata": {},
   "outputs": [
    {
     "data": {
      "text/plain": [
       "array([[4.  , 2.  , 0.6 ],\n",
       "       [4.2 , 2.1 , 0.59],\n",
       "       [3.9 , 2.  , 0.58],\n",
       "       [4.3 , 2.1 , 0.62],\n",
       "       [4.1 , 2.2 , 0.63]])"
      ]
     },
     "execution_count": 39,
     "metadata": {},
     "output_type": "execute_result"
    }
   ],
   "source": [
    "F = np.array([[4,2,0.6],[4.2, 2.1, 0.59],[3.9, 2.0, 0.58],[4.3, 2.1, 0.62],[4.1, 2.2, 0.63]])\n",
    "F"
   ]
  },
  {
   "cell_type": "code",
   "execution_count": 5,
   "id": "506ae902-1d86-4132-9376-505ab1c0e144",
   "metadata": {},
   "outputs": [
    {
     "data": {
      "text/plain": [
       "array([4.1  , 2.08 , 0.604])"
      ]
     },
     "execution_count": 5,
     "metadata": {},
     "output_type": "execute_result"
    }
   ],
   "source": [
    "Mean_F = np.mean(F,axis=0)\n",
    "Mean_F"
   ]
  },
  {
   "cell_type": "code",
   "execution_count": 7,
   "id": "ae5ddb69-c7de-465e-aec8-9fd639050fbf",
   "metadata": {},
   "outputs": [
    {
     "data": {
      "text/plain": [
       "array([[-0.1  , -0.08 , -0.004],\n",
       "       [ 0.1  ,  0.02 , -0.014],\n",
       "       [-0.2  , -0.08 , -0.024],\n",
       "       [ 0.2  ,  0.02 ,  0.016],\n",
       "       [ 0.   ,  0.12 ,  0.026]])"
      ]
     },
     "execution_count": 7,
     "metadata": {},
     "output_type": "execute_result"
    }
   ],
   "source": [
    "Mean_centered_F = F-Mean_F\n",
    "Mean_centered_F"
   ]
  },
  {
   "cell_type": "code",
   "execution_count": 25,
   "id": "6c1e1fbb-faac-4ad0-8bd6-31ebef4136f5",
   "metadata": {},
   "outputs": [
    {
     "data": {
      "text/plain": [
       "array([[0.025  , 0.0075 , 0.00175],\n",
       "       [0.0075 , 0.007  , 0.00135],\n",
       "       [0.00175, 0.00135, 0.00043]])"
      ]
     },
     "execution_count": 25,
     "metadata": {},
     "output_type": "execute_result"
    }
   ],
   "source": [
    "cov_matrix = np.cov(Mean_centered_F.T)\n",
    "cov_matrix"
   ]
  },
  {
   "cell_type": "code",
   "execution_count": 28,
   "id": "198c5a01-30d6-46f0-8fea-897ff323d9b1",
   "metadata": {},
   "outputs": [
    {
     "data": {
      "text/plain": [
       "array([[ 0.93676841,  0.34958469, -0.0159843 ],\n",
       "       [ 0.34148069, -0.92313136, -0.1766902 ],\n",
       "       [ 0.0765238 , -0.16005947,  0.98413672]])"
      ]
     },
     "execution_count": 28,
     "metadata": {},
     "output_type": "execute_result"
    }
   ],
   "source": [
    "e_v,e_vec = np.linalg.eig(cov_matrix)\n",
    "e_vec"
   ]
  },
  {
   "cell_type": "code",
   "execution_count": 38,
   "id": "edbf8790-bfd4-4793-b7e9-1a847f79ebb8",
   "metadata": {},
   "outputs": [
    {
     "data": {
      "text/plain": [
       "array([0.02787694, 0.00439387, 0.0001592 ])"
      ]
     },
     "execution_count": 38,
     "metadata": {},
     "output_type": "execute_result"
    }
   ],
   "source": [
    "e_v"
   ]
  },
  {
   "cell_type": "code",
   "execution_count": 40,
   "id": "c2079d73-76fb-4c75-87f8-7dbb4feafa5d",
   "metadata": {},
   "outputs": [
    {
     "data": {
      "text/plain": [
       "array([[-0.12130139,  0.03953228],\n",
       "       [ 0.09943512,  0.01873667],\n",
       "       [-0.21650871,  0.007775  ],\n",
       "       [ 0.19540768,  0.04889336],\n",
       "       [ 0.0429673 , -0.11493731]])"
      ]
     },
     "execution_count": 40,
     "metadata": {},
     "output_type": "execute_result"
    }
   ],
   "source": [
    "res = np.dot(Mean_centered_F,e_vec[:,:2])\n",
    "res"
   ]
  },
  {
   "cell_type": "code",
   "execution_count": 37,
   "id": "ac447089-58d9-43f7-a882-b13a045f130f",
   "metadata": {},
   "outputs": [
    {
     "data": {
      "text/plain": [
       "array([[-0.12130139, -0.03953228],\n",
       "       [ 0.09943512, -0.01873667],\n",
       "       [-0.21650871, -0.007775  ],\n",
       "       [ 0.19540768, -0.04889336],\n",
       "       [ 0.0429673 ,  0.11493731]])"
      ]
     },
     "execution_count": 37,
     "metadata": {},
     "output_type": "execute_result"
    }
   ],
   "source": [
    "principal_components = pca.fit_transform(Mean_centered_F)\n",
    "principal_components"
   ]
  },
  {
   "cell_type": "code",
   "execution_count": 26,
   "id": "763f6bc3-4229-46af-a797-966fcc628f22",
   "metadata": {},
   "outputs": [
    {
     "data": {
      "text/plain": [
       "array([[0.1    , 0.03   , 0.007  ],\n",
       "       [0.03   , 0.028  , 0.0054 ],\n",
       "       [0.007  , 0.0054 , 0.00172]])"
      ]
     },
     "execution_count": 26,
     "metadata": {},
     "output_type": "execute_result"
    }
   ],
   "source": [
    "FT_F = np.dot(Mean_centered_F.T,Mean_centered_F)\n",
    "FT_F"
   ]
  },
  {
   "cell_type": "code",
   "execution_count": 30,
   "id": "2f06c20c-a7b9-4cc5-877a-1de98d2f4739",
   "metadata": {},
   "outputs": [
    {
     "data": {
      "text/plain": [
       "array([[0.02    , 0.006   , 0.0014  ],\n",
       "       [0.006   , 0.0056  , 0.00108 ],\n",
       "       [0.0014  , 0.00108 , 0.000344]])"
      ]
     },
     "execution_count": 30,
     "metadata": {},
     "output_type": "execute_result"
    }
   ],
   "source": [
    "cov_FT_F = (1/5)*FT_F\n",
    "cov_FT_F"
   ]
  },
  {
   "cell_type": "code",
   "execution_count": 31,
   "id": "869745c4-97c8-4d22-b690-c072230b3668",
   "metadata": {},
   "outputs": [
    {
     "data": {
      "text/plain": [
       "array([0.02230155, 0.00351509, 0.00012736])"
      ]
     },
     "execution_count": 31,
     "metadata": {},
     "output_type": "execute_result"
    }
   ],
   "source": [
    "eig_val,eig_vec = np.linalg.eig(cov_FT_F)\n",
    "eig_val"
   ]
  },
  {
   "cell_type": "code",
   "execution_count": 36,
   "id": "0f0375c9-d81e-49f5-8b27-5147a5c001a4",
   "metadata": {},
   "outputs": [
    {
     "data": {
      "text/plain": [
       "array([[ 0.93676841,  0.34958469],\n",
       "       [ 0.34148069, -0.92313136],\n",
       "       [ 0.0765238 , -0.16005947]])"
      ]
     },
     "execution_count": 36,
     "metadata": {},
     "output_type": "execute_result"
    }
   ],
   "source": [
    "eig_vec[:,:2]"
   ]
  },
  {
   "cell_type": "code",
   "execution_count": 21,
   "id": "9b31d567-fb4e-4bcf-84e7-dc2cbd36e423",
   "metadata": {},
   "outputs": [
    {
     "data": {
      "text/plain": [
       "array([[ 4.47594928, -0.54395965],\n",
       "       [ 4.69668579, -0.56475525],\n",
       "       [ 4.38074197, -0.57571693],\n",
       "       [ 4.79265835, -0.53459857],\n",
       "       [ 4.64021798, -0.69842923]])"
      ]
     },
     "execution_count": 21,
     "metadata": {},
     "output_type": "execute_result"
    }
   ],
   "source": [
    "Result = np.dot(F,eig_vec[:,:2])\n",
    "Result"
   ]
  },
  {
   "cell_type": "code",
   "execution_count": 12,
   "id": "05d23a31-af82-47ff-a652-9623a728a7e7",
   "metadata": {},
   "outputs": [],
   "source": [
    "from sklearn.decomposition import PCA"
   ]
  },
  {
   "cell_type": "code",
   "execution_count": 13,
   "id": "f68daaaa-ea30-4831-b031-e5eed53e071c",
   "metadata": {},
   "outputs": [],
   "source": [
    "pca = PCA(n_components=2)"
   ]
  },
  {
   "cell_type": "code",
   "execution_count": 41,
   "id": "d7518436-fe90-4e08-a0c2-9fee6a41ebd8",
   "metadata": {},
   "outputs": [
    {
     "data": {
      "text/plain": [
       "array([0.8596033 , 0.13548767])"
      ]
     },
     "execution_count": 41,
     "metadata": {},
     "output_type": "execute_result"
    }
   ],
   "source": [
    "pca.explained_variance_ratio_"
   ]
  },
  {
   "cell_type": "code",
   "execution_count": 43,
   "id": "321647b6-0a02-4880-bc1c-f2c048b03e4d",
   "metadata": {},
   "outputs": [
    {
     "data": {
      "text/plain": [
       "1.5612511283791264e-17"
      ]
     },
     "execution_count": 43,
     "metadata": {},
     "output_type": "execute_result"
    }
   ],
   "source": [
    "var1 = np.dot(res[:,0],res[:,1])\n",
    "var1"
   ]
  },
  {
   "cell_type": "code",
   "execution_count": 44,
   "id": "d8d8be2b-a893-422f-acdb-8c7cd9debf17",
   "metadata": {},
   "outputs": [],
   "source": [
    "total_egnvalues = sum(eig_val)\n",
    "var_exp = [(i/total_egnvalues) for i in sorted(eig_val, reverse=True)]"
   ]
  },
  {
   "cell_type": "code",
   "execution_count": 45,
   "id": "3175a4bf-e142-49e0-af87-d8e1919fe985",
   "metadata": {},
   "outputs": [
    {
     "data": {
      "text/plain": [
       "[0.8596032995037316, 0.1354876678039723, 0.004909032692295956]"
      ]
     },
     "execution_count": 45,
     "metadata": {},
     "output_type": "execute_result"
    }
   ],
   "source": [
    "var_exp"
   ]
  },
  {
   "cell_type": "code",
   "execution_count": 46,
   "id": "b895ace5-2367-4806-b888-057b2d076fb7",
   "metadata": {},
   "outputs": [
    {
     "data": {
      "text/plain": [
       "0.025944000000000005"
      ]
     },
     "execution_count": 46,
     "metadata": {},
     "output_type": "execute_result"
    }
   ],
   "source": [
    "total_egnvalues"
   ]
  },
  {
   "cell_type": "code",
   "execution_count": null,
   "id": "c9e2df9e-a211-47c5-bcf1-9a01d25afd03",
   "metadata": {},
   "outputs": [],
   "source": []
  }
 ],
 "metadata": {
  "kernelspec": {
   "display_name": "Python 3 (ipykernel)",
   "language": "python",
   "name": "python3"
  },
  "language_info": {
   "codemirror_mode": {
    "name": "ipython",
    "version": 3
   },
   "file_extension": ".py",
   "mimetype": "text/x-python",
   "name": "python",
   "nbconvert_exporter": "python",
   "pygments_lexer": "ipython3",
   "version": "3.12.4"
  }
 },
 "nbformat": 4,
 "nbformat_minor": 5
}
